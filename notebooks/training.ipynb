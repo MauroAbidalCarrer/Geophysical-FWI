{
 "cells": [
  {
   "cell_type": "code",
   "execution_count": 1,
   "id": "e035c6a3",
   "metadata": {},
   "outputs": [],
   "source": [
    "from functools import reduce\n",
    "from itertools import pairwise, accumulate\n",
    "\n",
    "import torch\n",
    "from torch import nn\n",
    "from torch import Tensor\n",
    "from torch.nn.functional import max_pool2d, interpolate\n",
    "\n",
    "from config import CHANNELS_DIMENSION\n",
    "from datasets import PreprocessedOpenFWI"
   ]
  },
  {
   "cell_type": "code",
   "execution_count": 19,
   "id": "1edaf380",
   "metadata": {},
   "outputs": [
    {
     "data": {
      "text/plain": [
       "device(type='cpu')"
      ]
     },
     "execution_count": 19,
     "metadata": {},
     "output_type": "execute_result"
    }
   ],
   "source": [
    "class ConvBlock(nn.Sequential):\n",
    "    \"\"\"3x3+1Padding Conv, BN, ReLu\"\"\"\n",
    "    def __init__(self, in_channels:int, out_channels:int):\n",
    "        super().__init__(\n",
    "            nn.Conv2d(in_channels, out_channels, kernel_size=3, padding=1),\n",
    "            nn.BatchNorm2d(out_channels),\n",
    "            nn.ReLU(),\n",
    "        )\n",
    "\n",
    "class ResidualBlock(nn.Module):\n",
    "    \"\"\"2 Convulution block + residual\"\"\"\n",
    "    def __init__(self, in_channels:int, out_channels:int):\n",
    "        super().__init__()\n",
    "        self.blocks = nn.Sequential(\n",
    "            ConvBlock(in_channels, out_channels),\n",
    "            ConvBlock(out_channels, out_channels),\n",
    "        )\n",
    "        if in_channels == out_channels:\n",
    "            self.skip_connection = nn.Identity() \n",
    "        else:\n",
    "            # May want to set bias to False ?\n",
    "            self.skip_connection = nn.Sequential(\n",
    "                nn.Conv2d(in_channels, out_channels, 1),\n",
    "                nn.BatchNorm2d(out_channels)\n",
    "            )\n",
    "\n",
    "    def forward(self, x:Tensor) -> Tensor:\n",
    "        return self.skip_connection(x) + self.blocks(x)\n",
    "\n",
    "def encode(x:Tensor, module:nn.Module) -> Tensor:\n",
    "    return max_pool2d(module(x), 2)\n",
    "\n",
    "def decode(xs:tuple[Tensor, Tensor], module:nn.Module) -> Tensor:\n",
    "    x = torch.concatenate(xs, CHANNELS_DIMENSION)\n",
    "    out = module(x)\n",
    "    return interpolate(out, scale_factor=2, mode=\"bilinear\", align_corners=False)\n",
    "\n",
    "class UNet(nn.Module):\n",
    "    def __init__(self, in_channels:int, out_channels:int, start_features:int, depth:int):\n",
    "        super().__init__()\n",
    "        # Define the channels per depth of the Unet\n",
    "        chs_per_depth = [start_features * 2 ** i for i in range(depth)]\n",
    "        # Instantiate the Unet\n",
    "        down_blocks_chns_it = pairwise([in_channels, *chs_per_depth])\n",
    "        self.down_blocks = [ResidualBlock(in_chs, out_chs) for in_chs, out_chs in down_blocks_chns_it]\n",
    "        # Instantiate the bottle neck\n",
    "        self.bottle_neck_block = ResidualBlock(chs_per_depth[-1], chs_per_depth[-1])\n",
    "        # Instantialte the downblocks\n",
    "        up_blocks_chans_it = pairwise([*chs_per_depth[::-1], out_channels])\n",
    "        self.up_blocks = [ResidualBlock(in_chs, out_chs) for in_chs, out_chs in up_blocks_chans_it]\n",
    "\n",
    "    def forward(self, x:Tensor) -> Tensor:\n",
    "        encoder_outputs = list(accumulate(self.down_blocks, encode, initial=x))\n",
    "        bottleneck_output = self.bottle_neck_block(encoder_outputs[-1])\n",
    "        out = bottleneck_output\n",
    "        for up_block, encode_output in zip(self.up_blocks, encoder_outputs):\n",
    "            print(\"out:\", out.shape)\n",
    "            print(\"out:\", encode_output.shape)\n",
    "            out = decode((out, encode_output), up_block)\n",
    "        return out\n",
    "\n",
    "\n",
    "model = UNet(5, 1, 32, 4)#.cuda()\n",
    "\n",
    "next(model.parameters()).device"
   ]
  },
  {
   "cell_type": "code",
   "execution_count": 20,
   "id": "15894089",
   "metadata": {},
   "outputs": [
    {
     "name": "stdout",
     "output_type": "stream",
     "text": [
      "out: torch.Size([1, 256, 4, 4])\n",
      "out: torch.Size([1, 5, 72, 72])\n"
     ]
    },
    {
     "ename": "RuntimeError",
     "evalue": "Sizes of tensors must match except in dimension 1. Expected size 4 but got size 72 for tensor number 1 in the list.",
     "output_type": "error",
     "traceback": [
      "\u001b[31m---------------------------------------------------------------------------\u001b[39m",
      "\u001b[31mRuntimeError\u001b[39m                              Traceback (most recent call last)",
      "\u001b[36mCell\u001b[39m\u001b[36m \u001b[39m\u001b[32mIn[20]\u001b[39m\u001b[32m, line 3\u001b[39m\n\u001b[32m      1\u001b[39m test_input = torch.randn(\u001b[32m1\u001b[39m, \u001b[32m5\u001b[39m, \u001b[32m72\u001b[39m, \u001b[32m72\u001b[39m)\u001b[38;5;66;03m#.cuda()\u001b[39;00m\n\u001b[32m----> \u001b[39m\u001b[32m3\u001b[39m \u001b[43mmodel\u001b[49m\u001b[43m(\u001b[49m\u001b[43mtest_input\u001b[49m\u001b[43m)\u001b[49m.shape\n",
      "\u001b[36mFile \u001b[39m\u001b[32m/venv/GEO-FWI/lib/python3.11/site-packages/torch/nn/modules/module.py:1736\u001b[39m, in \u001b[36mModule._wrapped_call_impl\u001b[39m\u001b[34m(self, *args, **kwargs)\u001b[39m\n\u001b[32m   1734\u001b[39m     \u001b[38;5;28;01mreturn\u001b[39;00m \u001b[38;5;28mself\u001b[39m._compiled_call_impl(*args, **kwargs)  \u001b[38;5;66;03m# type: ignore[misc]\u001b[39;00m\n\u001b[32m   1735\u001b[39m \u001b[38;5;28;01melse\u001b[39;00m:\n\u001b[32m-> \u001b[39m\u001b[32m1736\u001b[39m     \u001b[38;5;28;01mreturn\u001b[39;00m \u001b[38;5;28;43mself\u001b[39;49m\u001b[43m.\u001b[49m\u001b[43m_call_impl\u001b[49m\u001b[43m(\u001b[49m\u001b[43m*\u001b[49m\u001b[43margs\u001b[49m\u001b[43m,\u001b[49m\u001b[43m \u001b[49m\u001b[43m*\u001b[49m\u001b[43m*\u001b[49m\u001b[43mkwargs\u001b[49m\u001b[43m)\u001b[49m\n",
      "\u001b[36mFile \u001b[39m\u001b[32m/venv/GEO-FWI/lib/python3.11/site-packages/torch/nn/modules/module.py:1747\u001b[39m, in \u001b[36mModule._call_impl\u001b[39m\u001b[34m(self, *args, **kwargs)\u001b[39m\n\u001b[32m   1742\u001b[39m \u001b[38;5;66;03m# If we don't have any hooks, we want to skip the rest of the logic in\u001b[39;00m\n\u001b[32m   1743\u001b[39m \u001b[38;5;66;03m# this function, and just call forward.\u001b[39;00m\n\u001b[32m   1744\u001b[39m \u001b[38;5;28;01mif\u001b[39;00m \u001b[38;5;129;01mnot\u001b[39;00m (\u001b[38;5;28mself\u001b[39m._backward_hooks \u001b[38;5;129;01mor\u001b[39;00m \u001b[38;5;28mself\u001b[39m._backward_pre_hooks \u001b[38;5;129;01mor\u001b[39;00m \u001b[38;5;28mself\u001b[39m._forward_hooks \u001b[38;5;129;01mor\u001b[39;00m \u001b[38;5;28mself\u001b[39m._forward_pre_hooks\n\u001b[32m   1745\u001b[39m         \u001b[38;5;129;01mor\u001b[39;00m _global_backward_pre_hooks \u001b[38;5;129;01mor\u001b[39;00m _global_backward_hooks\n\u001b[32m   1746\u001b[39m         \u001b[38;5;129;01mor\u001b[39;00m _global_forward_hooks \u001b[38;5;129;01mor\u001b[39;00m _global_forward_pre_hooks):\n\u001b[32m-> \u001b[39m\u001b[32m1747\u001b[39m     \u001b[38;5;28;01mreturn\u001b[39;00m \u001b[43mforward_call\u001b[49m\u001b[43m(\u001b[49m\u001b[43m*\u001b[49m\u001b[43margs\u001b[49m\u001b[43m,\u001b[49m\u001b[43m \u001b[49m\u001b[43m*\u001b[49m\u001b[43m*\u001b[49m\u001b[43mkwargs\u001b[49m\u001b[43m)\u001b[49m\n\u001b[32m   1749\u001b[39m result = \u001b[38;5;28;01mNone\u001b[39;00m\n\u001b[32m   1750\u001b[39m called_always_called_hooks = \u001b[38;5;28mset\u001b[39m()\n",
      "\u001b[36mCell\u001b[39m\u001b[36m \u001b[39m\u001b[32mIn[19]\u001b[39m\u001b[32m, line 59\u001b[39m, in \u001b[36mUNet.forward\u001b[39m\u001b[34m(self, x)\u001b[39m\n\u001b[32m     57\u001b[39m     \u001b[38;5;28mprint\u001b[39m(\u001b[33m\"\u001b[39m\u001b[33mout:\u001b[39m\u001b[33m\"\u001b[39m, out.shape)\n\u001b[32m     58\u001b[39m     \u001b[38;5;28mprint\u001b[39m(\u001b[33m\"\u001b[39m\u001b[33mout:\u001b[39m\u001b[33m\"\u001b[39m, encode_output.shape)\n\u001b[32m---> \u001b[39m\u001b[32m59\u001b[39m     out = \u001b[43mdecode\u001b[49m\u001b[43m(\u001b[49m\u001b[43m(\u001b[49m\u001b[43mout\u001b[49m\u001b[43m,\u001b[49m\u001b[43m \u001b[49m\u001b[43mencode_output\u001b[49m\u001b[43m)\u001b[49m\u001b[43m,\u001b[49m\u001b[43m \u001b[49m\u001b[43mup_block\u001b[49m\u001b[43m)\u001b[49m\n\u001b[32m     60\u001b[39m \u001b[38;5;28;01mreturn\u001b[39;00m out\n",
      "\u001b[36mCell\u001b[39m\u001b[36m \u001b[39m\u001b[32mIn[19]\u001b[39m\u001b[32m, line 34\u001b[39m, in \u001b[36mdecode\u001b[39m\u001b[34m(xs, module)\u001b[39m\n\u001b[32m     33\u001b[39m \u001b[38;5;28;01mdef\u001b[39;00m\u001b[38;5;250m \u001b[39m\u001b[34mdecode\u001b[39m(xs:\u001b[38;5;28mtuple\u001b[39m[Tensor, Tensor], module:nn.Module) -> Tensor:\n\u001b[32m---> \u001b[39m\u001b[32m34\u001b[39m     x = \u001b[43mtorch\u001b[49m\u001b[43m.\u001b[49m\u001b[43mconcatenate\u001b[49m\u001b[43m(\u001b[49m\u001b[43mxs\u001b[49m\u001b[43m,\u001b[49m\u001b[43m \u001b[49m\u001b[43mCHANNELS_DIMENSION\u001b[49m\u001b[43m)\u001b[49m\n\u001b[32m     35\u001b[39m     out = module(x)\n\u001b[32m     36\u001b[39m     \u001b[38;5;28;01mreturn\u001b[39;00m interpolate(out, scale_factor=\u001b[32m2\u001b[39m, mode=\u001b[33m\"\u001b[39m\u001b[33mbilinear\u001b[39m\u001b[33m\"\u001b[39m, align_corners=\u001b[38;5;28;01mFalse\u001b[39;00m)\n",
      "\u001b[31mRuntimeError\u001b[39m: Sizes of tensors must match except in dimension 1. Expected size 4 but got size 72 for tensor number 1 in the list."
     ]
    }
   ],
   "source": [
    "test_input = torch.randn(1, 5, 72, 72)#.cuda()\n",
    "\n",
    "model(test_input).shape"
   ]
  }
 ],
 "metadata": {
  "kernelspec": {
   "display_name": "GEO-FWI",
   "language": "python",
   "name": "python3"
  },
  "language_info": {
   "codemirror_mode": {
    "name": "ipython",
    "version": 3
   },
   "file_extension": ".py",
   "mimetype": "text/x-python",
   "name": "python",
   "nbconvert_exporter": "python",
   "pygments_lexer": "ipython3",
   "version": "3.11.5"
  }
 },
 "nbformat": 4,
 "nbformat_minor": 5
}
