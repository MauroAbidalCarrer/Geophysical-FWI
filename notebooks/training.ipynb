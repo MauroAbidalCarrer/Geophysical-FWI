{
 "cells": [
  {
   "cell_type": "code",
   "execution_count": 1,
   "id": "e035c6a3",
   "metadata": {},
   "outputs": [],
   "source": [
    "import torch\n",
    "from torch import Tensor\n",
    "from torch.utils import data as torch_data\n",
    "from torch.amp import autocast, GradScaler\n",
    "\n",
    "from models import UNet\n",
    "from datasets import PreprocessedOpenFWI"
   ]
  },
  {
   "cell_type": "code",
   "execution_count": 2,
   "id": "32a4b230",
   "metadata": {},
   "outputs": [
    {
     "data": {
      "application/vnd.jupyter.widget-view+json": {
       "model_id": "a549c7fca5b7407fbfc966462e505f34",
       "version_major": 2,
       "version_minor": 0
      },
      "text/plain": [
       "Output()"
      ]
     },
     "metadata": {},
     "output_type": "display_data"
    },
    {
     "data": {
      "text/html": [
       "<pre style=\"white-space:pre;overflow-x:auto;line-height:normal;font-family:Menlo,'DejaVu Sans Mono',consolas,'Courier New',monospace\"></pre>\n"
      ],
      "text/plain": []
     },
     "metadata": {},
     "output_type": "display_data"
    },
    {
     "data": {
      "application/vnd.jupyter.widget-view+json": {
       "model_id": "a8174510d0bb4c01a46c8070f896e1f1",
       "version_major": 2,
       "version_minor": 0
      },
      "text/plain": [
       "Output()"
      ]
     },
     "metadata": {},
     "output_type": "display_data"
    },
    {
     "data": {
      "text/html": [
       "<pre style=\"white-space:pre;overflow-x:auto;line-height:normal;font-family:Menlo,'DejaVu Sans Mono',consolas,'Courier New',monospace\"></pre>\n"
      ],
      "text/plain": []
     },
     "metadata": {},
     "output_type": "display_data"
    },
    {
     "data": {
      "application/vnd.jupyter.widget-view+json": {
       "model_id": "c944acbd76354ef08ee2f40d471a7133",
       "version_major": 2,
       "version_minor": 0
      },
      "text/plain": [
       "Output()"
      ]
     },
     "metadata": {},
     "output_type": "display_data"
    },
    {
     "data": {
      "text/html": [
       "<pre style=\"white-space:pre;overflow-x:auto;line-height:normal;font-family:Menlo,'DejaVu Sans Mono',consolas,'Courier New',monospace\"></pre>\n"
      ],
      "text/plain": []
     },
     "metadata": {},
     "output_type": "display_data"
    },
    {
     "data": {
      "application/vnd.jupyter.widget-view+json": {
       "model_id": "f649bff0c9464d54a8a62166a8b14946",
       "version_major": 2,
       "version_minor": 0
      },
      "text/plain": [
       "Output()"
      ]
     },
     "metadata": {},
     "output_type": "display_data"
    },
    {
     "data": {
      "text/html": [
       "<pre style=\"white-space:pre;overflow-x:auto;line-height:normal;font-family:Menlo,'DejaVu Sans Mono',consolas,'Courier New',monospace\"></pre>\n"
      ],
      "text/plain": []
     },
     "metadata": {},
     "output_type": "display_data"
    }
   ],
   "source": [
    "# model\n",
    "model = UNet(\n",
    "    in_channels=5,\n",
    "    out_channels=1,\n",
    "    start_features=32,\n",
    "    depth=4\n",
    ")\n",
    "# data\n",
    "train_dataset = PreprocessedOpenFWI(train=True, norm_output=True)\n",
    "train_loader = torch_data.DataLoader(train_dataset, batch_size=128, shuffle=True)\n",
    "test_dataset = PreprocessedOpenFWI(train=False, norm_output=True)\n",
    "test_loader = torch_data.DataLoader(train_dataset, batch_size=128, shuffle=True)\n",
    "# Training\n",
    "optimizer = torch.optim.AdamW(model.parameters(), lr=0.001)\n",
    "scaler = GradScaler(device=\"cpu\")"
   ]
  },
  {
   "cell_type": "code",
   "execution_count": null,
   "id": "2c5a789d",
   "metadata": {},
   "outputs": [
    {
     "name": "stdout",
     "output_type": "stream",
     "text": [
      "loss: 0.8215686626147746\n",
      "loss: 1.634363343202212\n",
      "loss: 2.453345365105036\n",
      "loss: 3.2723858068569145\n",
      "loss: 4.080452963054744\n",
      "loss: 4.90756960928805\n"
     ]
    }
   ],
   "source": [
    "step = 0\n",
    "    \n",
    "for epoch in range(2):\n",
    "    total_loss = 0\n",
    "    total_accuracy = 0\n",
    "    # Count nb samples instead of accessing len(data_loader.dataset)\n",
    "    # in case the data lauder augments the number of samples\n",
    "    nb_batches = 0\n",
    "    nb_samples = 0\n",
    "    for batch_x, batch_y in train_loader:\n",
    "        nb_batches += 1\n",
    "        nb_samples += len(batch_x)\n",
    "        model.train()\n",
    "        optimizer.zero_grad()\n",
    "        # print(batch_x.dtype)\n",
    "        with autocast(device_type=\"cpu\"):\n",
    "            batch_y_pred = model(batch_x)\n",
    "\n",
    "        loss_value = (batch_y_pred - batch_y).abs().mean()\n",
    "        scaler.scale(loss_value).backward()\n",
    "        # if self.grad_clip:\n",
    "        #     utils.clip_grad_value_(model.parameters(), self.grad_clip)\n",
    "        scaler.unscale_(optimizer)\n",
    "        scaler.step(optimizer)\n",
    "        scaler.update()\n",
    "\n",
    "        total_loss += loss_value.item()\n",
    "        # total_accuracy += (torch.max(batch_y_pred, 1)[1] == batch_y).sum().item()\n",
    "        # self.optimizer.step()\n",
    "        \n",
    "        # if self.lr_scheduler:\n",
    "        #     self.lr_scheduler.step()\n",
    "        step += 1\n",
    "        print(\"loss:\", total_loss / len(train_loader))\n"
   ]
  }
 ],
 "metadata": {
  "kernelspec": {
   "display_name": "GEO-FWI",
   "language": "python",
   "name": "python3"
  },
  "language_info": {
   "codemirror_mode": {
    "name": "ipython",
    "version": 3
   },
   "file_extension": ".py",
   "mimetype": "text/x-python",
   "name": "python",
   "nbconvert_exporter": "python",
   "pygments_lexer": "ipython3",
   "version": "3.11.5"
  }
 },
 "nbformat": 4,
 "nbformat_minor": 5
}
