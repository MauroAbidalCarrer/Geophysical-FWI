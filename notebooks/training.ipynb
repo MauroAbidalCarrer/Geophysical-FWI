{
 "cells": [
  {
   "cell_type": "code",
   "execution_count": 1,
   "id": "e035c6a3",
   "metadata": {},
   "outputs": [],
   "source": [
    "import torch\n",
    "from torch import Tensor\n",
    "from torch.utils import data as torch_data\n",
    "from torch.amp import autocast, GradScaler\n",
    "\n",
    "from models import UNet\n",
    "from datasets import PreprocessedOpenFWI"
   ]
  },
  {
   "cell_type": "code",
   "execution_count": 2,
   "id": "32a4b230",
   "metadata": {},
   "outputs": [
    {
     "name": "stdout",
     "output_type": "stream",
     "text": [
      "Downloading from https://www.kaggle.com/api/v1/datasets/download/brendanartley/openfwi-preprocessed-72x72?dataset_version_number=7...\n"
     ]
    },
    {
     "name": "stderr",
     "output_type": "stream",
     "text": [
      "100%|██████████| 20.6G/20.6G [17:04<00:00, 21.6MB/s]  "
     ]
    },
    {
     "name": "stdout",
     "output_type": "stream",
     "text": [
      "Extracting files...\n"
     ]
    },
    {
     "name": "stderr",
     "output_type": "stream",
     "text": [
      "\n"
     ]
    },
    {
     "data": {
      "application/vnd.jupyter.widget-view+json": {
       "model_id": "82515786ab054b8b9819f710acebdfb3",
       "version_major": 2,
       "version_minor": 0
      },
      "text/plain": [
       "Output()"
      ]
     },
     "metadata": {},
     "output_type": "display_data"
    },
    {
     "data": {
      "text/html": [
       "<pre style=\"white-space:pre;overflow-x:auto;line-height:normal;font-family:Menlo,'DejaVu Sans Mono',consolas,'Courier New',monospace\"></pre>\n"
      ],
      "text/plain": []
     },
     "metadata": {},
     "output_type": "display_data"
    },
    {
     "data": {
      "application/vnd.jupyter.widget-view+json": {
       "model_id": "012f16e6dc8b4cdbabe8d3de58627da2",
       "version_major": 2,
       "version_minor": 0
      },
      "text/plain": [
       "Output()"
      ]
     },
     "metadata": {},
     "output_type": "display_data"
    },
    {
     "data": {
      "text/html": [
       "<pre style=\"white-space:pre;overflow-x:auto;line-height:normal;font-family:Menlo,'DejaVu Sans Mono',consolas,'Courier New',monospace\"></pre>\n"
      ],
      "text/plain": []
     },
     "metadata": {},
     "output_type": "display_data"
    },
    {
     "data": {
      "application/vnd.jupyter.widget-view+json": {
       "model_id": "a0ad1f8a379246cb9130f2400f2b6444",
       "version_major": 2,
       "version_minor": 0
      },
      "text/plain": [
       "Output()"
      ]
     },
     "metadata": {},
     "output_type": "display_data"
    },
    {
     "data": {
      "text/html": [
       "<pre style=\"white-space:pre;overflow-x:auto;line-height:normal;font-family:Menlo,'DejaVu Sans Mono',consolas,'Courier New',monospace\"></pre>\n"
      ],
      "text/plain": []
     },
     "metadata": {},
     "output_type": "display_data"
    },
    {
     "data": {
      "application/vnd.jupyter.widget-view+json": {
       "model_id": "2965f389dafb429ca6f1f07c8d87afed",
       "version_major": 2,
       "version_minor": 0
      },
      "text/plain": [
       "Output()"
      ]
     },
     "metadata": {},
     "output_type": "display_data"
    },
    {
     "data": {
      "text/html": [
       "<pre style=\"white-space:pre;overflow-x:auto;line-height:normal;font-family:Menlo,'DejaVu Sans Mono',consolas,'Courier New',monospace\"></pre>\n"
      ],
      "text/plain": []
     },
     "metadata": {},
     "output_type": "display_data"
    }
   ],
   "source": [
    "# model\n",
    "model = UNet(\n",
    "    in_channels=5,\n",
    "    out_channels=1,\n",
    "    start_features=32,\n",
    "    depth=4\n",
    ").cuda()\n",
    "# data\n",
    "train_dataset = PreprocessedOpenFWI(train=True, norm_output=True, nb_files_to_load=1)\n",
    "train_loader = torch_data.DataLoader(train_dataset, batch_size=128, shuffle=True)\n",
    "test_dataset = PreprocessedOpenFWI(train=False, norm_output=True)\n",
    "test_loader = torch_data.DataLoader(train_dataset, batch_size=128, shuffle=True)\n",
    "# Training\n",
    "optimizer = torch.optim.AdamW(model.parameters(), lr=0.001)\n",
    "scaler = GradScaler(device=\"cuda\")"
   ]
  },
  {
   "cell_type": "code",
   "execution_count": 8,
   "id": "2c5a789d",
   "metadata": {},
   "outputs": [
    {
     "name": "stdout",
     "output_type": "stream",
     "text": [
      "loss: 0.200897216796875\n",
      "loss: 0.1962432861328125\n",
      "loss: 0.199462890625\n",
      "loss: 0.1912689208984375\n",
      "loss: 0.1862640380859375\n",
      "loss: 0.1873016357421875\n",
      "loss: 0.171142578125\n",
      "loss: 0.1835784912109375\n",
      "loss: 0.1676177978515625\n",
      "loss: 0.1704864501953125\n",
      "loss: 0.1624755859375\n",
      "loss: 0.164642333984375\n",
      "loss: 0.1561737060546875\n",
      "loss: 0.1641845703125\n",
      "loss: 0.1605072021484375\n",
      "loss: 0.1559600830078125\n",
      "loss: 0.148834228515625\n",
      "loss: 0.1575469970703125\n",
      "loss: 0.1555328369140625\n",
      "loss: 0.15814208984375\n"
     ]
    }
   ],
   "source": [
    "step = 0\n",
    "for epoch in range(20):\n",
    "    total_loss = 0\n",
    "    total_accuracy = 0\n",
    "    # Count nb samples instead of accessing len(data_loader.dataset)\n",
    "    # in case the data lauder augments the number of samples\n",
    "    nb_batches = 0\n",
    "    nb_samples = 0\n",
    "    for batch_x, batch_y in train_loader:\n",
    "        batch_x = batch_x.cuda()\n",
    "        batch_y = batch_y.cuda()\n",
    "        nb_batches += 1\n",
    "        nb_samples += len(batch_x)\n",
    "        model.train()\n",
    "        optimizer.zero_grad()\n",
    "        # print(batch_x.dtype)\n",
    "        with autocast(device_type=\"cuda\"):\n",
    "            batch_y_pred = model(batch_x)\n",
    "\n",
    "        loss_value = (batch_y_pred - batch_y).abs().mean()\n",
    "        scaler.scale(loss_value).backward()\n",
    "        # scaler.unscale_(optimizer)\n",
    "        scaler.step(optimizer)\n",
    "        scaler.update()\n",
    "\n",
    "        total_loss += loss_value.item()\n",
    "        step += 1\n",
    "    print(\"loss:\", total_loss / len(train_loader))\n"
   ]
  }
 ],
 "metadata": {
  "kernelspec": {
   "display_name": "GEO-FWI",
   "language": "python",
   "name": "python3"
  },
  "language_info": {
   "codemirror_mode": {
    "name": "ipython",
    "version": 3
   },
   "file_extension": ".py",
   "mimetype": "text/x-python",
   "name": "python",
   "nbconvert_exporter": "python",
   "pygments_lexer": "ipython3",
   "version": "3.11.5"
  }
 },
 "nbformat": 4,
 "nbformat_minor": 5
}
